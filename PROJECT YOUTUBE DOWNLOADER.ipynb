{
 "cells": [
  {
   "cell_type": "code",
   "execution_count": 1,
   "id": "28c243aa",
   "metadata": {},
   "outputs": [
    {
     "name": "stdout",
     "output_type": "stream",
     "text": [
      "https://www.youtube.com/watch?v=qvvHlhXghRg\n",
      "C:/Users/Aryaman Das/Desktop\n",
      "done\n"
     ]
    }
   ],
   "source": [
    "from pytube import *\n",
    "from tkinter.filedialog import *\n",
    "from tkinter import *\n",
    "from tkinter.messagebox import *\n",
    "from threading import *\n",
    "\n",
    "file_size = 0\n",
    "\n",
    "\n",
    "def progress(stream=None, chunk=None, file_handle=None, remaining=None):\n",
    "    file_downloaded = (file_size - file_handle)\n",
    "    per = (file_downloaded / file_size) * 100\n",
    "    dBtn.config(text=\"{:00.0f} % downloaded\".format(per))\n",
    "\n",
    "\n",
    "def startDownload():\n",
    "    global file_size\n",
    "    try:\n",
    "        url = urlField.get()\n",
    "        print(url)\n",
    "        dBtn.config(text='Please wait...')\n",
    "        dBtn.config(state=DISABLED)\n",
    "        path_to_save = askdirectory()\n",
    "        print(path_to_save)\n",
    "        if path_to_save is None:\n",
    "            return\n",
    "        ob = YouTube(url, on_progress_callback=progress)\n",
    "        strm = ob.streams.first()\n",
    "        file_size = strm.filesize\n",
    "        vTitle.config(text=strm.title)\n",
    "        vTitle.pack(side=TOP)\n",
    "        strm.download(path_to_save)\n",
    "        print(\"done\")\n",
    "        dBtn.config(text='Start Download')\n",
    "        dBtn.config(state=NORMAL)\n",
    "        showinfo(\"Download Finished!\")\n",
    "        urlField.delete(0, END)\n",
    "        vTitle.pack_forget()\n",
    "\n",
    "\n",
    "\n",
    "    except Exception as e:\n",
    "        print(e)\n",
    "        print(\"error\")\n",
    "\n",
    "\n",
    "def startDownloadThread():\n",
    "    thread = Thread(target=startDownload)\n",
    "    thread.start()\n",
    "\n",
    "\n",
    "main = Tk()\n",
    "\n",
    "main.title(\"Youtubr Downloader\")\n",
    "main.iconbitmap(r'C:\\Users\\Aryaman Das\\Desktop\\utube.ico')\n",
    "main.geometry(\"500x600\")\n",
    "\n",
    "file = PhotoImage(file=r'C:\\Users\\Aryaman Das\\Desktop\\youtube.png')\n",
    "headingIcon = Label(main, image=file)\n",
    "headingIcon.pack(side=TOP)\n",
    "\n",
    "urlField = Entry(main, font=(\"verdana\", 18), justify=CENTER)\n",
    "urlField.pack(side=TOP, fill=X, padx=10, pady=20)\n",
    "\n",
    "dBtn = Button(main, text=\"Start Download\", font=(\"verdana\", 18), relief='ridge', command=startDownload)\n",
    "dBtn.pack(side=TOP)\n",
    "\n",
    "vTitle = Label(main, text=\"Video title\")\n",
    "main.mainloop()"
   ]
  },
  {
   "cell_type": "code",
   "execution_count": null,
   "id": "a08ae8f4",
   "metadata": {},
   "outputs": [],
   "source": []
  }
 ],
 "metadata": {
  "kernelspec": {
   "display_name": "Python 3",
   "language": "python",
   "name": "python3"
  },
  "language_info": {
   "codemirror_mode": {
    "name": "ipython",
    "version": 3
   },
   "file_extension": ".py",
   "mimetype": "text/x-python",
   "name": "python",
   "nbconvert_exporter": "python",
   "pygments_lexer": "ipython3",
   "version": "3.8.8"
  }
 },
 "nbformat": 4,
 "nbformat_minor": 5
}
